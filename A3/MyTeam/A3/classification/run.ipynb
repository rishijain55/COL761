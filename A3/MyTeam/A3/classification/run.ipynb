{
 "cells": [
  {
   "cell_type": "code",
   "execution_count": 1,
   "metadata": {},
   "outputs": [
    {
     "name": "stderr",
     "output_type": "stream",
     "text": [
      "/usr/lib/python3/dist-packages/scipy/__init__.py:146: UserWarning: A NumPy version >=1.17.3 and <1.25.0 is required for this version of SciPy (detected version 1.26.0\n",
      "  warnings.warn(f\"A NumPy version >={np_minversion} and <{np_maxversion}\"\n"
     ]
    }
   ],
   "source": [
    "import torch\n",
    "import torch.nn as nn\n",
    "import torch.nn.functional as F\n",
    "\n",
    "import torch_geometric.nn as pyg_nn\n",
    "import torch_geometric.utils as pyg_utils\n",
    "\n",
    "import time\n",
    "from datetime import datetime\n",
    "\n",
    "import networkx as nx\n",
    "import numpy as np\n",
    "import torch\n",
    "import torch.optim as optim\n",
    "\n",
    "from torch_geometric.datasets import TUDataset\n",
    "from torch_geometric.datasets import Planetoid\n",
    "from torch_geometric.data import DataLoader\n",
    "\n",
    "import torch_geometric.transforms as T\n",
    "\n",
    "from tensorboardX import SummaryWriter\n",
    "from sklearn.manifold import TSNE\n",
    "import matplotlib.pyplot as plt"
   ]
  },
  {
   "cell_type": "code",
   "execution_count": 2,
   "metadata": {},
   "outputs": [],
   "source": [
    "class GNNStack(nn.Module):\n",
    "    def __init__(self, input_dim, hidden_dim, output_dim, task='node'):\n",
    "        super(GNNStack, self).__init__()\n",
    "        self.task = task\n",
    "        self.convs = nn.ModuleList()\n",
    "        self.convs.append(self.build_conv_model(input_dim, hidden_dim))\n",
    "        self.lns = nn.ModuleList()\n",
    "        self.lns.append(nn.LayerNorm(hidden_dim))\n",
    "        self.lns.append(nn.LayerNorm(hidden_dim))\n",
    "        for l in range(2):\n",
    "            self.convs.append(self.build_conv_model(hidden_dim, hidden_dim))\n",
    "\n",
    "        # post-message-passing\n",
    "        self.post_mp = nn.Sequential(\n",
    "            nn.Linear(hidden_dim, hidden_dim), nn.Dropout(0.25),\n",
    "            nn.Linear(hidden_dim, output_dim))\n",
    "        if not (self.task == 'node' or self.task == 'graph'):\n",
    "            raise RuntimeError('Unknown task.')\n",
    "\n",
    "        self.dropout = 0.25\n",
    "        self.num_layers = 3\n",
    "\n",
    "    def build_conv_model(self, input_dim, hidden_dim):\n",
    "        # refer to pytorch geometric nn module for different implementation of GNNs.\n",
    "        if self.task == 'node':\n",
    "            return pyg_nn.GCNConv(input_dim, hidden_dim)\n",
    "        else:\n",
    "            return pyg_nn.GINConv(nn.Sequential(nn.Linear(input_dim, hidden_dim),\n",
    "                                  nn.ReLU(), nn.Linear(hidden_dim, hidden_dim)))\n",
    "\n",
    "    def forward(self, data):\n",
    "        x, edge_index, batch = data.x, data.edge_index, data.batch\n",
    "        if data.num_node_features == 0:\n",
    "          x = torch.ones(data.num_nodes, 1)\n",
    "\n",
    "        for i in range(self.num_layers):\n",
    "            x = self.convs[i](x, edge_index)\n",
    "            emb = x\n",
    "            x = F.relu(x)\n",
    "            x = F.dropout(x, p=self.dropout, training=self.training)\n",
    "            if not i == self.num_layers - 1:\n",
    "                x = self.lns[i](x)\n",
    "\n",
    "        if self.task == 'graph':\n",
    "            x = pyg_nn.global_mean_pool(x, batch)\n",
    "\n",
    "        x = self.post_mp(x)\n",
    "\n",
    "        return emb, F.log_softmax(x, dim=1)\n",
    "\n",
    "    def loss(self, pred, label):\n",
    "        return F.nll_loss(pred, label)"
   ]
  },
  {
   "cell_type": "code",
   "execution_count": 3,
   "metadata": {},
   "outputs": [],
   "source": [
    "class CustomConv(pyg_nn.MessagePassing):\n",
    "    def __init__(self, in_channels, out_channels):\n",
    "        super(CustomConv, self).__init__(aggr='add')  # \"Add\" aggregation.\n",
    "        self.lin = nn.Linear(in_channels, out_channels)\n",
    "        self.lin_self = nn.Linear(in_channels, out_channels)\n",
    "\n",
    "    def forward(self, x, edge_index):\n",
    "        # x has shape [N, in_channels]\n",
    "        # edge_index has shape [2, E]\n",
    "\n",
    "        # Add self-loops to the adjacency matrix.\n",
    "        edge_index, _ = pyg_utils.remove_self_loops(edge_index)\n",
    "\n",
    "        # Transform node feature matrix.\n",
    "        self_x = self.lin_self(x)\n",
    "        #x = self.lin(x)\n",
    "\n",
    "        return self_x + self.propagate(edge_index, size=(x.size(0), x.size(0)), x=self.lin(x))\n",
    "\n",
    "    def message(self, x_i, x_j, edge_index, size):\n",
    "        # Compute messages\n",
    "        # x_j has shape [E, out_channels]\n",
    "\n",
    "        row, col = edge_index\n",
    "        deg = pyg_utils.degree(row, size[0], dtype=x_j.dtype)\n",
    "        deg_inv_sqrt = deg.pow(-0.5)\n",
    "        norm = deg_inv_sqrt[row] * deg_inv_sqrt[col]\n",
    "\n",
    "        return x_j\n",
    "\n",
    "    def update(self, aggr_out):\n",
    "        # aggr_out has shape [N, out_channels]\n",
    "        return aggr_out"
   ]
  },
  {
   "cell_type": "code",
   "execution_count": 4,
   "metadata": {},
   "outputs": [],
   "source": [
    "def train(dataset, task, writer):\n",
    "    if task == 'graph':\n",
    "        data_size = len(dataset)\n",
    "        loader = DataLoader(dataset[:int(data_size * 0.8)], batch_size=64, shuffle=True)\n",
    "        test_loader = DataLoader(dataset[int(data_size * 0.8):], batch_size=64, shuffle=True)\n",
    "    else:\n",
    "        test_loader = loader = DataLoader(dataset, batch_size=64, shuffle=True)\n",
    "\n",
    "    # build model\n",
    "    model = GNNStack(max(dataset.num_node_features, 1), 32, dataset.num_classes, task=task)\n",
    "    opt = optim.Adam(model.parameters(), lr=0.01)\n",
    "\n",
    "    # train\n",
    "    for epoch in range(200):\n",
    "        total_loss = 0\n",
    "        model.train()\n",
    "        for batch in loader:\n",
    "            #print(batch.train_mask, '----')\n",
    "            opt.zero_grad()\n",
    "            embedding, pred = model(batch)\n",
    "            label = batch.y\n",
    "            if task == 'node':\n",
    "                pred = pred[batch.train_mask]\n",
    "                label = label[batch.train_mask]\n",
    "            loss = model.loss(pred, label)\n",
    "            loss.backward()\n",
    "            opt.step()\n",
    "            total_loss += loss.item() * batch.num_graphs\n",
    "        total_loss /= len(loader.dataset)\n",
    "        writer.add_scalar(\"loss\", total_loss, epoch)\n",
    "\n",
    "        if epoch % 10 == 0:\n",
    "            test_acc = test(test_loader, model)\n",
    "            print(\"Epoch {}. Loss: {:.4f}. Test accuracy: {:.4f}\".format(\n",
    "                epoch, total_loss, test_acc))\n",
    "            writer.add_scalar(\"test accuracy\", test_acc, epoch)\n",
    "\n",
    "    return model\n"
   ]
  },
  {
   "cell_type": "code",
   "execution_count": 5,
   "metadata": {},
   "outputs": [],
   "source": [
    "def test(loader, model, is_validation=False):\n",
    "    model.eval()\n",
    "\n",
    "    correct = 0\n",
    "    for data in loader:\n",
    "        with torch.no_grad():\n",
    "            emb, pred = model(data)\n",
    "            pred = pred.argmax(dim=1)\n",
    "            label = data.y\n",
    "\n",
    "        if model.task == 'node':\n",
    "            mask = data.val_mask if is_validation else data.test_mask\n",
    "            # node classification: only evaluate on nodes in test set\n",
    "            pred = pred[mask]\n",
    "            label = data.y[mask]\n",
    "\n",
    "        correct += pred.eq(label).sum().item()\n",
    "\n",
    "    if model.task == 'graph':\n",
    "        total = len(loader.dataset)\n",
    "    else:\n",
    "        total = 0\n",
    "        for data in loader.dataset:\n",
    "            total += torch.sum(data.test_mask).item()\n",
    "    return correct / total"
   ]
  },
  {
   "cell_type": "code",
   "execution_count": 31,
   "metadata": {},
   "outputs": [],
   "source": [
    "import gzip,os\n",
    "import pandas as pd\n",
    "import torch\n",
    "from torch_geometric.data import Data, Dataset, DataLoader\n",
    "\n",
    "from torch_geometric.utils import one_hot\n",
    "\n",
    "def read_gzipped_csv(file_path):\n",
    "    #include the header\n",
    "    df = pd.read_csv(gzip.open(file_path), header=None)\n",
    "    return df\n",
    "\n",
    "\n",
    "class MyDataset(Dataset):\n",
    "    def __init__(self, root, transform=None, pre_transform=None):\n",
    "        super(MyDataset, self).__init__(root, transform, pre_transform)\n",
    "        dataset_path = os.path.join(root)\n",
    "\n",
    "        # Load your dataset files here\n",
    "        self.graph_labels = read_gzipped_csv(dataset_path +  '/graph_labels.csv.gz')\n",
    "        self.num_nodes = read_gzipped_csv(dataset_path +  '/num_nodes.csv.gz')\n",
    "        self.num_edges = read_gzipped_csv(dataset_path + '/num_edges.csv.gz')\n",
    "        self.node_features = read_gzipped_csv(dataset_path +  '/node_features.csv.gz')\n",
    "        self.edges = read_gzipped_csv(dataset_path +  '/edges.csv.gz')\n",
    "        self.edge_features = read_gzipped_csv(dataset_path +  '/edge_features.csv.gz')\n",
    "        #define a dataframe which stroes the start of node_features for each graph\n",
    "        self.node_features_start = pd.DataFrame(columns=['start'])\n",
    "        self.node_features_start.loc[0] = 0\n",
    "        for i in range(1, len(self.num_nodes)):\n",
    "            self.node_features_start.loc[i] = self.node_features_start.loc[i-1] + self.num_nodes.iloc[i-1, 0]\n",
    "        #define a dataframe which stroes the start of edge_features for each graph\n",
    "        self.edge_features_start = pd.DataFrame(columns=['start'])\n",
    "        self.edge_features_start.loc[0] = 0\n",
    "        for i in range(1, len(self.num_edges)):\n",
    "            self.edge_features_start.loc[i] = self.edge_features_start.loc[i-1] + self.num_edges.iloc[i-1, 0]\n",
    "\n",
    "        valid_indices = ~self.graph_labels.iloc[:, 0].isna()\n",
    "        self.graph_labels = self.graph_labels[valid_indices]\n",
    "        self.num_nodes = self.num_nodes[valid_indices]\n",
    "        self.num_edges = self.num_edges[valid_indices]\n",
    "        self.node_features_start = self.node_features_start[valid_indices]\n",
    "        self.edge_features_start = self.edge_features_start[valid_indices]\n",
    "\n",
    "\n",
    "    def len(self):\n",
    "        return len(self.graph_labels)\n",
    "\n",
    "    def get(self, idx):\n",
    "        label = self.graph_labels.iloc[idx, 0]\n",
    "        label = torch.tensor(self.graph_labels.iloc[idx, 0], dtype=torch.float32).round().long()\n",
    "        #make label one dimensional\n",
    "        label_shape = [1]\n",
    "        labelo = torch.zeros(label_shape, dtype=torch.long)\n",
    "        labelo[0] = label\n",
    "        label = labelo\n",
    "\n",
    "        #encode the label into one-hot vector\n",
    "\n",
    "        num_nodes = self.num_nodes.iloc[idx, 0]\n",
    "        num_edges = self.num_edges.iloc[idx, 0]\n",
    "\n",
    "        # Extract node features for the current graph\n",
    "        start_node_features = self.node_features_start.iloc[idx, 0]\n",
    "        end_node_features = start_node_features + num_nodes\n",
    "        #datatype of node_features is numpy.ndarray\n",
    "        node_features = torch.tensor(self.node_features.iloc[start_node_features:end_node_features, :].values, dtype=torch.float32)\n",
    "\n",
    "        # Extract edge features for the current graph\n",
    "        start_edge_features = self.edge_features_start.iloc[idx, 0]\n",
    "        end_edge_features = start_edge_features + num_edges\n",
    "        edge_features = torch.tensor(self.edge_features.iloc[start_edge_features:end_edge_features, :].values, dtype=torch.float32)\n",
    "\n",
    "        # Extract edges for the current graph\n",
    "        edges = torch.tensor(self.edges.iloc[start_edge_features:end_edge_features, :].values, dtype=torch.long)\n",
    "\n",
    "        # Construct the graph\n",
    "        graph = Data(x=node_features, edge_index=edges.t().contiguous(), edge_attr=edge_features, y=label)\n",
    "        return graph"
   ]
  },
  {
   "cell_type": "code",
   "execution_count": 32,
   "metadata": {},
   "outputs": [],
   "source": [
    "writer = SummaryWriter(\"./log/\" + datetime.now().strftime(\"%Y%m%d-%H%M%S\"))\n",
    "\n",
    "\n",
    "train_dataset_path = \"/home/slowblow/sem7/col761/ass-git/A3/dataset/dataset_2/train\"\n",
    "dataset = MyDataset(root=train_dataset_path)"
   ]
  },
  {
   "cell_type": "code",
   "execution_count": 34,
   "metadata": {},
   "outputs": [
    {
     "name": "stdout",
     "output_type": "stream",
     "text": [
      "tensor([[0, 1, 1, 2, 1, 3, 3, 4, 4, 5, 5, 6, 6, 7, 6, 8, 8, 9, 9, 3],\n",
      "        [1, 0, 2, 1, 3, 1, 4, 3, 5, 4, 6, 5, 7, 6, 8, 6, 9, 8, 3, 9]])\n",
      "2\n"
     ]
    }
   ],
   "source": [
    "for i in range(len(dataset)):\n",
    "    data = dataset[i]\n",
    "    print(data.edge_index)\n",
    "    break\n",
    "\n",
    "print(dataset.num_classes)\n"
   ]
  },
  {
   "cell_type": "code",
   "execution_count": 35,
   "metadata": {},
   "outputs": [
    {
     "name": "stderr",
     "output_type": "stream",
     "text": [
      "/home/slowblow/.local/lib/python3.10/site-packages/torch_geometric/deprecation.py:22: UserWarning: 'data.DataLoader' is deprecated, use 'loader.DataLoader' instead\n",
      "  warnings.warn(out)\n"
     ]
    },
    {
     "name": "stdout",
     "output_type": "stream",
     "text": [
      "Epoch 0. Loss: 0.5033. Test accuracy: 0.8033\n",
      "Epoch 10. Loss: 0.4854. Test accuracy: 0.8033\n",
      "Epoch 20. Loss: 0.4849. Test accuracy: 0.8033\n",
      "Epoch 30. Loss: 0.4850. Test accuracy: 0.8033\n",
      "Epoch 40. Loss: 0.4845. Test accuracy: 0.8033\n",
      "Epoch 50. Loss: 0.4853. Test accuracy: 0.8033\n",
      "Epoch 60. Loss: 0.4844. Test accuracy: 0.8033\n",
      "Epoch 70. Loss: 0.4852. Test accuracy: 0.8033\n",
      "Epoch 80. Loss: 0.4848. Test accuracy: 0.8033\n",
      "Epoch 90. Loss: 0.4854. Test accuracy: 0.8033\n",
      "Epoch 100. Loss: 0.4847. Test accuracy: 0.8033\n",
      "Epoch 110. Loss: 0.4849. Test accuracy: 0.8033\n",
      "Epoch 120. Loss: 0.4848. Test accuracy: 0.8033\n",
      "Epoch 130. Loss: 0.4847. Test accuracy: 0.8033\n",
      "Epoch 140. Loss: 0.4847. Test accuracy: 0.8033\n",
      "Epoch 150. Loss: 0.4846. Test accuracy: 0.8033\n",
      "Epoch 160. Loss: 0.4851. Test accuracy: 0.8033\n",
      "Epoch 170. Loss: 0.4852. Test accuracy: 0.8033\n",
      "Epoch 180. Loss: 0.4849. Test accuracy: 0.8033\n",
      "Epoch 190. Loss: 0.4849. Test accuracy: 0.8033\n"
     ]
    }
   ],
   "source": [
    "task = 'graph'\n",
    "model = train(dataset, task, writer)"
   ]
  },
  {
   "cell_type": "code",
   "execution_count": 39,
   "metadata": {},
   "outputs": [
    {
     "name": "stdout",
     "output_type": "stream",
     "text": [
      "252 536\n"
     ]
    },
    {
     "name": "stderr",
     "output_type": "stream",
     "text": [
      "/home/slowblow/.local/lib/python3.10/site-packages/torch_geometric/deprecation.py:22: UserWarning: 'data.DataLoader' is deprecated, use 'loader.DataLoader' instead\n",
      "  warnings.warn(out)\n"
     ]
    },
    {
     "name": "stdout",
     "output_type": "stream",
     "text": [
      "0.6802030456852792\n"
     ]
    }
   ],
   "source": [
    "test_path = \"/home/slowblow/sem7/col761/ass-git/A3/dataset/dataset_2/valid\"\n",
    "test_dataset =  MyDataset(root=test_path)\n",
    "count1 =0\n",
    "count0 =0\n",
    "\n",
    "for g in test_dataset:\n",
    "    if g.y.item()==0:\n",
    "        count0+=1\n",
    "    else:\n",
    "        count1+=1\n",
    "\n",
    "print(count1, count0)\n",
    "\n",
    "test_loader = DataLoader(test_dataset, batch_size=64, shuffle=True)\n",
    "\n",
    "test_acc = test(test_loader, model)\n",
    "print(test_acc)"
   ]
  },
  {
   "cell_type": "code",
   "execution_count": 37,
   "metadata": {},
   "outputs": [
    {
     "name": "stdout",
     "output_type": "stream",
     "text": [
      "0.6802030456852792\n"
     ]
    }
   ],
   "source": []
  },
  {
   "cell_type": "code",
   "execution_count": null,
   "metadata": {},
   "outputs": [],
   "source": []
  }
 ],
 "metadata": {
  "kernelspec": {
   "display_name": "Python 3",
   "language": "python",
   "name": "python3"
  },
  "language_info": {
   "codemirror_mode": {
    "name": "ipython",
    "version": 3
   },
   "file_extension": ".py",
   "mimetype": "text/x-python",
   "name": "python",
   "nbconvert_exporter": "python",
   "pygments_lexer": "ipython3",
   "version": "3.10.12"
  }
 },
 "nbformat": 4,
 "nbformat_minor": 2
}
